{
 "cells": [
  {
   "cell_type": "markdown",
   "metadata": {},
   "source": [
    "# 資料匯入"
   ]
  },
  {
   "cell_type": "code",
   "execution_count": 1,
   "metadata": {
    "collapsed": false
   },
   "outputs": [
    {
     "data": {
      "text/html": [
       "<div>\n",
       "<style>\n",
       "    .dataframe thead tr:only-child th {\n",
       "        text-align: right;\n",
       "    }\n",
       "\n",
       "    .dataframe thead th {\n",
       "        text-align: left;\n",
       "    }\n",
       "\n",
       "    .dataframe tbody tr th {\n",
       "        vertical-align: top;\n",
       "    }\n",
       "</style>\n",
       "<table border=\"1\" class=\"dataframe\">\n",
       "  <thead>\n",
       "    <tr style=\"text-align: right;\">\n",
       "      <th></th>\n",
       "      <th>花萼長度</th>\n",
       "      <th>花萼寬度</th>\n",
       "      <th>花瓣長度</th>\n",
       "      <th>花瓣寬度</th>\n",
       "      <th>屬種</th>\n",
       "    </tr>\n",
       "  </thead>\n",
       "  <tbody>\n",
       "    <tr>\n",
       "      <th>0</th>\n",
       "      <td>5.1</td>\n",
       "      <td>3.5</td>\n",
       "      <td>1.4</td>\n",
       "      <td>0.2</td>\n",
       "      <td>Iris-setosa</td>\n",
       "    </tr>\n",
       "    <tr>\n",
       "      <th>1</th>\n",
       "      <td>4.9</td>\n",
       "      <td>3.0</td>\n",
       "      <td>1.4</td>\n",
       "      <td>0.2</td>\n",
       "      <td>Iris-setosa</td>\n",
       "    </tr>\n",
       "    <tr>\n",
       "      <th>2</th>\n",
       "      <td>4.7</td>\n",
       "      <td>3.2</td>\n",
       "      <td>1.3</td>\n",
       "      <td>0.2</td>\n",
       "      <td>Iris-setosa</td>\n",
       "    </tr>\n",
       "    <tr>\n",
       "      <th>3</th>\n",
       "      <td>4.6</td>\n",
       "      <td>3.1</td>\n",
       "      <td>1.5</td>\n",
       "      <td>0.2</td>\n",
       "      <td>Iris-setosa</td>\n",
       "    </tr>\n",
       "    <tr>\n",
       "      <th>4</th>\n",
       "      <td>5.0</td>\n",
       "      <td>3.6</td>\n",
       "      <td>1.4</td>\n",
       "      <td>0.2</td>\n",
       "      <td>Iris-setosa</td>\n",
       "    </tr>\n",
       "  </tbody>\n",
       "</table>\n",
       "</div>"
      ],
      "text/plain": [
       "   花萼長度  花萼寬度  花瓣長度  花瓣寬度           屬種\n",
       "0   5.1   3.5   1.4   0.2  Iris-setosa\n",
       "1   4.9   3.0   1.4   0.2  Iris-setosa\n",
       "2   4.7   3.2   1.3   0.2  Iris-setosa\n",
       "3   4.6   3.1   1.5   0.2  Iris-setosa\n",
       "4   5.0   3.6   1.4   0.2  Iris-setosa"
      ]
     },
     "execution_count": 1,
     "metadata": {},
     "output_type": "execute_result"
    }
   ],
   "source": [
    "import pandas as pd\n",
    "df = pd.read_csv(\"iris.csv\",encoding = \"big5\") #也可load sklearn內建iris datasets\n",
    "df.head()"
   ]
  },
  {
   "cell_type": "code",
   "execution_count": 2,
   "metadata": {
    "collapsed": false
   },
   "outputs": [],
   "source": [
    "X = df.drop('屬種',axis=1)\n",
    "y = df['屬種']"
   ]
  },
  {
   "cell_type": "code",
   "execution_count": 3,
   "metadata": {
    "collapsed": false
   },
   "outputs": [
    {
     "data": {
      "text/html": [
       "<div>\n",
       "<style>\n",
       "    .dataframe thead tr:only-child th {\n",
       "        text-align: right;\n",
       "    }\n",
       "\n",
       "    .dataframe thead th {\n",
       "        text-align: left;\n",
       "    }\n",
       "\n",
       "    .dataframe tbody tr th {\n",
       "        vertical-align: top;\n",
       "    }\n",
       "</style>\n",
       "<table border=\"1\" class=\"dataframe\">\n",
       "  <thead>\n",
       "    <tr style=\"text-align: right;\">\n",
       "      <th></th>\n",
       "      <th>花萼長度</th>\n",
       "      <th>花萼寬度</th>\n",
       "      <th>花瓣長度</th>\n",
       "      <th>花瓣寬度</th>\n",
       "    </tr>\n",
       "  </thead>\n",
       "  <tbody>\n",
       "    <tr>\n",
       "      <th>花萼長度</th>\n",
       "      <td>1.000000</td>\n",
       "      <td>-0.109369</td>\n",
       "      <td>0.871754</td>\n",
       "      <td>0.817954</td>\n",
       "    </tr>\n",
       "    <tr>\n",
       "      <th>花萼寬度</th>\n",
       "      <td>-0.109369</td>\n",
       "      <td>1.000000</td>\n",
       "      <td>-0.420516</td>\n",
       "      <td>-0.356544</td>\n",
       "    </tr>\n",
       "    <tr>\n",
       "      <th>花瓣長度</th>\n",
       "      <td>0.871754</td>\n",
       "      <td>-0.420516</td>\n",
       "      <td>1.000000</td>\n",
       "      <td>0.962757</td>\n",
       "    </tr>\n",
       "    <tr>\n",
       "      <th>花瓣寬度</th>\n",
       "      <td>0.817954</td>\n",
       "      <td>-0.356544</td>\n",
       "      <td>0.962757</td>\n",
       "      <td>1.000000</td>\n",
       "    </tr>\n",
       "  </tbody>\n",
       "</table>\n",
       "</div>"
      ],
      "text/plain": [
       "          花萼長度      花萼寬度      花瓣長度      花瓣寬度\n",
       "花萼長度  1.000000 -0.109369  0.871754  0.817954\n",
       "花萼寬度 -0.109369  1.000000 -0.420516 -0.356544\n",
       "花瓣長度  0.871754 -0.420516  1.000000  0.962757\n",
       "花瓣寬度  0.817954 -0.356544  0.962757  1.000000"
      ]
     },
     "execution_count": 3,
     "metadata": {},
     "output_type": "execute_result"
    }
   ],
   "source": [
    "X.corr()"
   ]
  },
  {
   "cell_type": "markdown",
   "metadata": {},
   "source": [
    "# PCA (n=4)"
   ]
  },
  {
   "cell_type": "code",
   "execution_count": 4,
   "metadata": {
    "collapsed": false
   },
   "outputs": [
    {
     "data": {
      "text/plain": [
       "array([[ -2.68420713e+00,   3.26607315e-01,  -2.15118370e-02,\n",
       "          1.00615724e-03],\n",
       "       [ -2.71539062e+00,  -1.69556848e-01,  -2.03521425e-01,\n",
       "          9.96024240e-02],\n",
       "       [ -2.88981954e+00,  -1.37345610e-01,   2.47092410e-02,\n",
       "          1.93045428e-02],\n",
       "       [ -2.74643720e+00,  -3.11124316e-01,   3.76719753e-02,\n",
       "         -7.59552741e-02],\n",
       "       [ -2.72859298e+00,   3.33924564e-01,   9.62296998e-02,\n",
       "         -6.31287327e-02],\n",
       "       [ -2.27989736e+00,   7.47782713e-01,   1.74325619e-01,\n",
       "         -2.71468037e-02],\n",
       "       [ -2.82089068e+00,  -8.21045110e-02,   2.64251085e-01,\n",
       "         -5.00996251e-02],\n",
       "       [ -2.62648199e+00,   1.70405349e-01,  -1.58015103e-02,\n",
       "         -4.62817610e-02],\n",
       "       [ -2.88795857e+00,  -5.70798026e-01,   2.73354061e-02,\n",
       "         -2.66154143e-02],\n",
       "       [ -2.67384469e+00,  -1.06691704e-01,  -1.91533300e-01,\n",
       "         -5.58909660e-02],\n",
       "       [ -2.50652679e+00,   6.51935014e-01,  -6.92749958e-02,\n",
       "         -1.66082478e-02],\n",
       "       [ -2.61314272e+00,   2.15206320e-02,   1.07650353e-01,\n",
       "         -1.57704569e-01],\n",
       "       [ -2.78743398e+00,  -2.27740189e-01,  -2.00327788e-01,\n",
       "         -7.23508674e-03],\n",
       "       [ -3.22520045e+00,  -5.03279909e-01,   6.84136292e-02,\n",
       "         -2.19466641e-02],\n",
       "       [ -2.64354322e+00,   1.18619490e+00,  -1.44505704e-01,\n",
       "          1.56980962e-01],\n",
       "       [ -2.38386932e+00,   1.34475434e+00,   2.83730664e-01,\n",
       "          1.92618171e-03],\n",
       "       [ -2.62252620e+00,   8.18089675e-01,   1.45315989e-01,\n",
       "          1.64740791e-01],\n",
       "       [ -2.64832273e+00,   3.19136668e-01,   3.33942541e-02,\n",
       "          7.61182133e-02],\n",
       "       [ -2.19907796e+00,   8.79244088e-01,  -1.14521465e-01,\n",
       "          2.53269397e-02],\n",
       "       [ -2.58734619e+00,   5.20473639e-01,   2.19572088e-01,\n",
       "         -6.90819912e-02],\n",
       "       [ -2.31053170e+00,   3.97867822e-01,  -2.33695607e-01,\n",
       "         -1.53237396e-02],\n",
       "       [ -2.54323491e+00,   4.40031755e-01,   2.14836370e-01,\n",
       "          3.84395001e-02],\n",
       "       [ -3.21585769e+00,   1.41615572e-01,   2.99618982e-01,\n",
       "          1.85704335e-03],\n",
       "       [ -2.30312854e+00,   1.05522678e-01,   4.56800413e-02,\n",
       "          1.47245500e-01],\n",
       "       [ -2.35617109e+00,  -3.12095891e-02,   1.29407576e-01,\n",
       "         -3.01620265e-01],\n",
       "       [ -2.50791723e+00,  -1.39056340e-01,  -2.47116338e-01,\n",
       "          3.53840813e-02],\n",
       "       [ -2.46905600e+00,   1.37887315e-01,   1.01263079e-01,\n",
       "          5.59704524e-02],\n",
       "       [ -2.56239095e+00,   3.74684563e-01,  -7.23591574e-02,\n",
       "         -1.52402868e-02],\n",
       "       [ -2.63982127e+00,   3.19290066e-01,  -1.39253374e-01,\n",
       "          6.51410472e-02],\n",
       "       [ -2.63284791e+00,  -1.90075831e-01,   4.64664636e-02,\n",
       "         -1.24611153e-01],\n",
       "       [ -2.58846205e+00,  -1.97393079e-01,  -7.12750731e-02,\n",
       "         -6.04762634e-02],\n",
       "       [ -2.41007734e+00,   4.18080008e-01,  -1.38388240e-01,\n",
       "          2.30844170e-01],\n",
       "       [ -2.64763667e+00,   8.19982633e-01,   2.30585604e-01,\n",
       "         -2.84808954e-01],\n",
       "       [ -2.59715948e+00,   1.10002193e+00,   1.63581913e-01,\n",
       "         -9.89580706e-02],\n",
       "       [ -2.67384469e+00,  -1.06691704e-01,  -1.91533300e-01,\n",
       "         -5.58909660e-02],\n",
       "       [ -2.86699985e+00,   7.71930957e-02,  -1.56842350e-01,\n",
       "          1.62452806e-01],\n",
       "       [ -2.62522846e+00,   6.06800008e-01,  -2.61163156e-01,\n",
       "          1.75879875e-01],\n",
       "       [ -2.67384469e+00,  -1.06691704e-01,  -1.91533300e-01,\n",
       "         -5.58909660e-02],\n",
       "       [ -2.98184266e+00,  -4.80250049e-01,   7.97248074e-02,\n",
       "         -1.10529508e-02],\n",
       "       [ -2.59032303e+00,   2.36059337e-01,  -7.39012382e-02,\n",
       "         -1.45563062e-02],\n",
       "       [ -2.77013891e+00,   2.71059420e-01,   8.42415745e-02,\n",
       "          9.23646573e-02],\n",
       "       [ -2.85221108e+00,  -9.32865367e-01,  -3.40961491e-01,\n",
       "          3.22650607e-01],\n",
       "       [ -2.99829644e+00,  -3.34307575e-01,   1.99008425e-01,\n",
       "         -7.58718213e-02],\n",
       "       [ -2.40551410e+00,   1.95917258e-01,   2.70717070e-01,\n",
       "          1.73785129e-01],\n",
       "       [ -2.20883295e+00,   4.42696030e-01,   3.03487809e-01,\n",
       "         -1.85857530e-01],\n",
       "       [ -2.71566519e+00,  -2.42681483e-01,  -9.05156060e-02,\n",
       "          1.42989025e-01],\n",
       "       [ -2.53757337e+00,   5.10367545e-01,   1.71918404e-01,\n",
       "         -1.92165946e-01],\n",
       "       [ -2.84032130e+00,  -2.20576338e-01,   9.00613765e-02,\n",
       "         -6.03928106e-02],\n",
       "       [ -2.54268576e+00,   5.86281025e-01,  -1.11752678e-02,\n",
       "         -4.83337025e-02],\n",
       "       [ -2.70391231e+00,   1.15010852e-01,  -8.26957266e-02,\n",
       "          3.40995730e-02],\n",
       "       [  1.28479459e+00,   6.85439186e-01,  -4.06129553e-01,\n",
       "          1.92901169e-02],\n",
       "       [  9.32410753e-01,   3.19198090e-01,  -1.71299092e-02,\n",
       "         -6.75794171e-06],\n",
       "       [  1.46406132e+00,   5.04189833e-01,  -3.38260728e-01,\n",
       "         -8.57644048e-04],\n",
       "       [  1.80967206e-01,  -8.25603944e-01,  -1.77082856e-01,\n",
       "          9.57844484e-02],\n",
       "       [  1.08713449e+00,   7.53903893e-02,  -3.06544465e-01,\n",
       "          1.13384539e-01],\n",
       "       [  6.40436750e-01,  -4.17323483e-01,   4.11887694e-02,\n",
       "         -2.42671312e-01],\n",
       "       [  1.09522371e+00,   2.83891211e-01,   1.70022534e-01,\n",
       "         -8.49733893e-02],\n",
       "       [ -7.51467141e-01,  -1.00110751e+00,   1.56721942e-02,\n",
       "         -1.65105922e-02],\n",
       "       [  1.04329778e+00,   2.28956909e-01,  -4.14814566e-01,\n",
       "         -3.75235536e-02],\n",
       "       [ -1.01900707e-02,  -7.20574867e-01,   2.83437246e-01,\n",
       "         -5.94570198e-03],\n",
       "       [ -5.11086196e-01,  -1.26249195e+00,  -2.66489954e-01,\n",
       "          4.89088061e-02],\n",
       "       [  5.11098061e-01,  -1.02284105e-01,   1.32327890e-01,\n",
       "          5.01005352e-02],\n",
       "       [  2.62335756e-01,  -5.47893298e-01,  -6.91941578e-01,\n",
       "          6.14849891e-02],\n",
       "       [  9.84044545e-01,  -1.24360420e-01,  -6.21574276e-02,\n",
       "         -1.69010670e-01],\n",
       "       [ -1.74864002e-01,  -2.51815571e-01,   9.36586382e-02,\n",
       "          1.24940887e-01],\n",
       "       [  9.27572942e-01,   4.68236205e-01,  -3.13229401e-01,\n",
       "          1.00438884e-01],\n",
       "       [  6.59592789e-01,  -3.51976291e-01,   3.28384297e-01,\n",
       "         -1.88991525e-01],\n",
       "       [  2.34540586e-01,  -3.31921829e-01,  -2.70280671e-01,\n",
       "         -2.11984995e-01],\n",
       "       [  9.42361707e-01,  -5.41822258e-01,  -4.97348541e-01,\n",
       "          2.60636685e-01],\n",
       "       [  4.32464003e-02,  -5.81489447e-01,  -2.32963556e-01,\n",
       "         -3.95611807e-02],\n",
       "       [  1.11624072e+00,  -8.42140139e-02,   4.59844227e-01,\n",
       "         -7.72135596e-02],\n",
       "       [  3.56786568e-01,  -6.68238279e-02,  -2.27472180e-01,\n",
       "          1.24090000e-01],\n",
       "       [  1.29646885e+00,  -3.27561520e-01,  -3.47513213e-01,\n",
       "          3.24623910e-03],\n",
       "       [  9.20502649e-01,  -1.82390363e-01,  -2.31611419e-01,\n",
       "         -2.86825347e-01],\n",
       "       [  7.14008214e-01,   1.50379153e-01,  -3.20372333e-01,\n",
       "          4.29412332e-02],\n",
       "       [  8.99640863e-01,   3.29610980e-01,  -3.14771481e-01,\n",
       "          1.01122865e-01],\n",
       "       [  1.33104142e+00,   2.44669521e-01,  -5.21244925e-01,\n",
       "          3.75050497e-02],\n",
       "       [  1.55739627e+00,   2.67392585e-01,  -1.64638491e-01,\n",
       "          7.03530951e-02],\n",
       "       [  8.12455549e-01,  -1.62331575e-01,   3.63435763e-02,\n",
       "         -2.96802711e-02],\n",
       "       [ -3.07334756e-01,  -3.65086613e-01,  -3.15337197e-01,\n",
       "          7.65303776e-02],\n",
       "       [ -7.03428889e-02,  -7.02537932e-01,  -2.41758045e-01,\n",
       "          9.09469852e-03],\n",
       "       [ -1.91884492e-01,  -6.77490544e-01,  -3.03916543e-01,\n",
       "         -1.80454588e-02],\n",
       "       [  1.34994950e-01,  -3.11709643e-01,  -1.74973304e-01,\n",
       "          3.41829142e-02],\n",
       "       [  1.37873698e+00,  -4.21205138e-01,   1.54804951e-02,\n",
       "         -1.77580737e-01],\n",
       "       [  5.87274854e-01,  -4.83284268e-01,   4.44583753e-01,\n",
       "         -2.52442435e-01],\n",
       "       [  8.07205497e-01,   1.95053964e-01,   3.89458711e-01,\n",
       "         -1.16615391e-01],\n",
       "       [  1.22042897e+00,   4.08035337e-01,  -2.36566087e-01,\n",
       "          3.16352440e-02],\n",
       "       [  8.12867790e-01,  -3.70678998e-01,  -6.12871050e-01,\n",
       "          1.57700491e-01],\n",
       "       [  2.45195162e-01,  -2.66728036e-01,   1.89562485e-01,\n",
       "         -1.47328042e-01],\n",
       "       [  1.64513428e-01,  -6.79661469e-01,  -5.77992388e-02,\n",
       "          3.09655779e-02],\n",
       "       [  4.63030989e-01,  -6.69526547e-01,  -2.40538909e-02,\n",
       "         -2.68443508e-01],\n",
       "       [  8.90160446e-01,  -3.38124427e-02,  -9.76802637e-03,\n",
       "         -1.53448206e-01],\n",
       "       [  2.28879050e-01,  -4.02257620e-01,  -2.27362705e-01,\n",
       "          1.86204508e-02],\n",
       "       [ -7.07081284e-01,  -1.00842476e+00,  -1.02069343e-01,\n",
       "          4.76242978e-02],\n",
       "       [  3.55533039e-01,  -5.03218487e-01,   1.78894659e-02,\n",
       "         -9.80716353e-02],\n",
       "       [  3.31126947e-01,  -2.11180141e-01,   8.38090732e-02,\n",
       "         -2.38686542e-01],\n",
       "       [  3.75238229e-01,  -2.91622025e-01,   7.90733555e-02,\n",
       "         -1.31165051e-01],\n",
       "       [  6.41690278e-01,   1.90711765e-02,  -2.04172877e-01,\n",
       "         -2.05096763e-02],\n",
       "       [ -9.08463333e-01,  -7.51568725e-01,  -7.73658451e-03,\n",
       "          2.33558634e-01],\n",
       "       [  2.97807907e-01,  -3.47016522e-01,   1.21791392e-02,\n",
       "         -5.07837171e-02],\n",
       "       [  2.53172698e+00,  -1.18422366e-02,   7.58458652e-01,\n",
       "         -3.25995685e-02],\n",
       "       [  1.41407223e+00,  -5.74925056e-01,   2.96398224e-01,\n",
       "         -1.56954783e-02],\n",
       "       [  2.61648461e+00,   3.41935287e-01,  -1.12141371e-01,\n",
       "          6.59560495e-02],\n",
       "       [  1.97081495e+00,  -1.81125695e-01,   1.06539149e-01,\n",
       "         -2.36858625e-01],\n",
       "       [  2.34975798e+00,  -4.18825497e-02,   2.84110681e-01,\n",
       "         -1.31272400e-03],\n",
       "       [  3.39687992e+00,   5.47168046e-01,  -3.51873158e-01,\n",
       "         -1.11219968e-01],\n",
       "       [  5.19383245e-01,  -1.19135169e+00,   5.46685531e-01,\n",
       "         -9.87984199e-02],\n",
       "       [  2.93200510e+00,   3.52377006e-01,  -4.23691278e-01,\n",
       "         -2.55407369e-01],\n",
       "       [  2.31967279e+00,  -2.45548171e-01,  -3.49922183e-01,\n",
       "         -7.62628625e-02],\n",
       "       [  2.91813423e+00,   7.80380629e-01,   4.21738934e-01,\n",
       "          1.07729319e-01],\n",
       "       [  1.66193495e+00,   2.42038401e-01,   2.42815263e-01,\n",
       "          1.19447585e-01],\n",
       "       [  1.80234045e+00,  -2.16154607e-01,  -3.76953285e-02,\n",
       "          7.87134526e-02],\n",
       "       [  2.16537886e+00,   2.15280283e-01,   3.31481832e-02,\n",
       "          1.62667280e-01],\n",
       "       [  1.34459422e+00,  -7.76415425e-01,   2.82868018e-01,\n",
       "          1.40481892e-01],\n",
       "       [  1.58526730e+00,  -5.39307054e-01,   6.30570488e-01,\n",
       "          3.27455367e-01],\n",
       "       [  1.90474358e+00,   1.18818991e-01,   4.80138080e-01,\n",
       "          2.17114500e-01],\n",
       "       [  1.94924878e+00,   4.07302594e-02,   4.27290939e-02,\n",
       "         -1.57845252e-01],\n",
       "       [  3.48876538e+00,   1.17154454e+00,   1.29320083e-01,\n",
       "         -3.11629838e-01],\n",
       "       [  3.79468686e+00,   2.53265571e-01,  -5.16970716e-01,\n",
       "          5.64516435e-02],\n",
       "       [  1.29832982e+00,  -7.61013937e-01,  -3.44887047e-01,\n",
       "         -4.26737181e-02],\n",
       "       [  2.42816726e+00,   3.76781971e-01,   2.18649070e-01,\n",
       "          1.83854179e-01],\n",
       "       [  1.19809737e+00,  -6.05578962e-01,   5.12640765e-01,\n",
       "          5.95000305e-02],\n",
       "       [  3.49926548e+00,   4.56773467e-01,  -5.76910187e-01,\n",
       "         -1.37759598e-01],\n",
       "       [  1.38766825e+00,  -2.04030987e-01,  -6.35113218e-02,\n",
       "          1.63763537e-01],\n",
       "       [  2.27585365e+00,   3.33386526e-01,   2.84678153e-01,\n",
       "         -6.22302776e-02],\n",
       "       [  2.61419383e+00,   5.58366950e-01,  -2.08423347e-01,\n",
       "         -2.40445433e-01],\n",
       "       [  1.25762518e+00,  -1.79136997e-01,   4.69778074e-02,\n",
       "          1.47600546e-01],\n",
       "       [  1.29066965e+00,  -1.16425252e-01,   2.31613561e-01,\n",
       "          3.08432157e-03],\n",
       "       [  2.12285398e+00,  -2.10854885e-01,   1.53515885e-01,\n",
       "          5.26124332e-02],\n",
       "       [  2.38756440e+00,   4.62519251e-01,  -4.52023961e-01,\n",
       "         -2.29906877e-01],\n",
       "       [  2.84096093e+00,   3.72742591e-01,  -5.01031539e-01,\n",
       "         -2.02166254e-02],\n",
       "       [  3.23234290e+00,   1.37052404e+00,  -1.18448777e-01,\n",
       "         -2.54487344e-01],\n",
       "       [  2.15873837e+00,  -2.18325532e-01,   2.08421976e-01,\n",
       "          1.27724489e-01],\n",
       "       [  1.44310260e+00,  -1.43801289e-01,  -1.54082971e-01,\n",
       "         -1.89925864e-01],\n",
       "       [  1.77964011e+00,  -5.01464795e-01,  -1.75811186e-01,\n",
       "         -5.03529453e-01],\n",
       "       [  3.07652162e+00,   6.85764442e-01,  -3.36422741e-01,\n",
       "          3.10589092e-01],\n",
       "       [  2.14498686e+00,   1.38906609e-01,   7.34184739e-01,\n",
       "          5.17665351e-02],\n",
       "       [  1.90486293e+00,   4.80475082e-02,   1.60470631e-01,\n",
       "         -2.21980142e-01],\n",
       "       [  1.16885347e+00,  -1.64502500e-01,   2.82460881e-01,\n",
       "          1.93307656e-02],\n",
       "       [  2.10765373e+00,   3.71482249e-01,   2.74378565e-02,\n",
       "          2.09955199e-01],\n",
       "       [  2.31430339e+00,   1.82608851e-01,   3.22860401e-01,\n",
       "          2.75896660e-01],\n",
       "       [  1.92245088e+00,   4.09271176e-01,   1.15492816e-01,\n",
       "          5.04095007e-01],\n",
       "       [  1.41407223e+00,  -5.74925056e-01,   2.96398224e-01,\n",
       "         -1.56954783e-02],\n",
       "       [  2.56332271e+00,   2.75974502e-01,   2.91253613e-01,\n",
       "          5.61849270e-02],\n",
       "       [  2.41939122e+00,   3.03503938e-01,   5.04302517e-01,\n",
       "          2.38217947e-01],\n",
       "       [  1.94401705e+00,   1.87415222e-01,   1.79302871e-01,\n",
       "          4.25081634e-01],\n",
       "       [  1.52566363e+00,  -3.75020848e-01,  -1.20636441e-01,\n",
       "          2.55722565e-01],\n",
       "       [  1.76404594e+00,   7.85191864e-02,   1.30784053e-01,\n",
       "          1.36294556e-01],\n",
       "       [  1.90162908e+00,   1.15876748e-01,   7.22873561e-01,\n",
       "          4.08728218e-02],\n",
       "       [  1.38966613e+00,  -2.82886709e-01,   3.62317832e-01,\n",
       "         -1.56310385e-01]])"
      ]
     },
     "execution_count": 4,
     "metadata": {},
     "output_type": "execute_result"
    }
   ],
   "source": [
    "import numpy as np\n",
    "import matplotlib.pyplot as plt\n",
    "from sklearn import decomposition\n",
    "%matplotlib inline\n",
    "\n",
    "pca = decomposition.PCA(n_components=4)\n",
    "pca.fit(X)\n",
    "X = pca.transform(X)\n",
    "\n",
    "X"
   ]
  },
  {
   "cell_type": "markdown",
   "metadata": {},
   "source": [
    "### 解釋共變異數比率"
   ]
  },
  {
   "cell_type": "code",
   "execution_count": 5,
   "metadata": {
    "collapsed": false
   },
   "outputs": [
    {
     "data": {
      "text/plain": [
       "array([ 0.92461621,  0.05301557,  0.01718514,  0.00518309])"
      ]
     },
     "execution_count": 5,
     "metadata": {},
     "output_type": "execute_result"
    }
   ],
   "source": [
    "pca.explained_variance_ratio_"
   ]
  },
  {
   "cell_type": "code",
   "execution_count": 6,
   "metadata": {
    "collapsed": false
   },
   "outputs": [],
   "source": [
    "def accumulate(x):\n",
    "    p = []\n",
    "    for i in range(len(x)):\n",
    "        if(i==0):\n",
    "            p.append(x[i])\n",
    "        else:\n",
    "            p.append(p[i-1]+x[i])\n",
    "    return p"
   ]
  },
  {
   "cell_type": "code",
   "execution_count": 7,
   "metadata": {
    "collapsed": false
   },
   "outputs": [
    {
     "data": {
      "text/plain": [
       "[0.9246162071742684, 0.97763177502480336, 0.99481691454981014, 1.0]"
      ]
     },
     "execution_count": 7,
     "metadata": {},
     "output_type": "execute_result"
    }
   ],
   "source": [
    "p_accu = accumulate(pca.explained_variance_ratio_)\n",
    "p_accu"
   ]
  },
  {
   "cell_type": "code",
   "execution_count": 8,
   "metadata": {
    "collapsed": false
   },
   "outputs": [
    {
     "data": {
      "image/png": "[encoded data removed]",
      "text/plain": [
       "<matplotlib.figure.Figure at 0x10c70b390>"
      ]
     },
     "metadata": {},
     "output_type": "display_data"
    }
   ],
   "source": [
    "y1 = pca.explained_variance_ratio_\n",
    "y2 = accumulate(pca.explained_variance_ratio_)\n",
    "x = [i for i in range(len(y1))]\n",
    "\n",
    "plt.figure()\n",
    "plt.bar(x,y1,align='center')\n",
    "plt.plot(x, y2, 'r-o')\n",
    "\n",
    "plt.show()"
   ]
  },
  {
   "cell_type": "markdown",
   "metadata": {},
   "source": [
    "# PCA (n=2)"
   ]
  },
  {
   "cell_type": "code",
   "execution_count": 9,
   "metadata": {
    "collapsed": false
   },
   "outputs": [
    {
     "data": {
      "text/plain": [
       "array([[-2.68420713,  0.32660731],\n",
       "       [-2.71539062, -0.16955685],\n",
       "       [-2.88981954, -0.13734561],\n",
       "       [-2.7464372 , -0.31112432],\n",
       "       [-2.72859298,  0.33392456],\n",
       "       [-2.27989736,  0.74778271],\n",
       "       [-2.82089068, -0.08210451],\n",
       "       [-2.62648199,  0.17040535],\n",
       "       [-2.88795857, -0.57079803],\n",
       "       [-2.67384469, -0.1066917 ],\n",
       "       [-2.50652679,  0.65193501],\n",
       "       [-2.61314272,  0.02152063],\n",
       "       [-2.78743398, -0.22774019],\n",
       "       [-3.22520045, -0.50327991],\n",
       "       [-2.64354322,  1.1861949 ],\n",
       "       [-2.38386932,  1.34475434],\n",
       "       [-2.6225262 ,  0.81808967],\n",
       "       [-2.64832273,  0.31913667],\n",
       "       [-2.19907796,  0.87924409],\n",
       "       [-2.58734619,  0.52047364],\n",
       "       [-2.3105317 ,  0.39786782],\n",
       "       [-2.54323491,  0.44003175],\n",
       "       [-3.21585769,  0.14161557],\n",
       "       [-2.30312854,  0.10552268],\n",
       "       [-2.35617109, -0.03120959],\n",
       "       [-2.50791723, -0.13905634],\n",
       "       [-2.469056  ,  0.13788731],\n",
       "       [-2.56239095,  0.37468456],\n",
       "       [-2.63982127,  0.31929007],\n",
       "       [-2.63284791, -0.19007583],\n",
       "       [-2.58846205, -0.19739308],\n",
       "       [-2.41007734,  0.41808001],\n",
       "       [-2.64763667,  0.81998263],\n",
       "       [-2.59715948,  1.10002193],\n",
       "       [-2.67384469, -0.1066917 ],\n",
       "       [-2.86699985,  0.0771931 ],\n",
       "       [-2.62522846,  0.60680001],\n",
       "       [-2.67384469, -0.1066917 ],\n",
       "       [-2.98184266, -0.48025005],\n",
       "       [-2.59032303,  0.23605934],\n",
       "       [-2.77013891,  0.27105942],\n",
       "       [-2.85221108, -0.93286537],\n",
       "       [-2.99829644, -0.33430757],\n",
       "       [-2.4055141 ,  0.19591726],\n",
       "       [-2.20883295,  0.44269603],\n",
       "       [-2.71566519, -0.24268148],\n",
       "       [-2.53757337,  0.51036755],\n",
       "       [-2.8403213 , -0.22057634],\n",
       "       [-2.54268576,  0.58628103],\n",
       "       [-2.70391231,  0.11501085],\n",
       "       [ 1.28479459,  0.68543919],\n",
       "       [ 0.93241075,  0.31919809],\n",
       "       [ 1.46406132,  0.50418983],\n",
       "       [ 0.18096721, -0.82560394],\n",
       "       [ 1.08713449,  0.07539039],\n",
       "       [ 0.64043675, -0.41732348],\n",
       "       [ 1.09522371,  0.28389121],\n",
       "       [-0.75146714, -1.00110751],\n",
       "       [ 1.04329778,  0.22895691],\n",
       "       [-0.01019007, -0.72057487],\n",
       "       [-0.5110862 , -1.26249195],\n",
       "       [ 0.51109806, -0.10228411],\n",
       "       [ 0.26233576, -0.5478933 ],\n",
       "       [ 0.98404455, -0.12436042],\n",
       "       [-0.174864  , -0.25181557],\n",
       "       [ 0.92757294,  0.46823621],\n",
       "       [ 0.65959279, -0.35197629],\n",
       "       [ 0.23454059, -0.33192183],\n",
       "       [ 0.94236171, -0.54182226],\n",
       "       [ 0.0432464 , -0.58148945],\n",
       "       [ 1.11624072, -0.08421401],\n",
       "       [ 0.35678657, -0.06682383],\n",
       "       [ 1.29646885, -0.32756152],\n",
       "       [ 0.92050265, -0.18239036],\n",
       "       [ 0.71400821,  0.15037915],\n",
       "       [ 0.89964086,  0.32961098],\n",
       "       [ 1.33104142,  0.24466952],\n",
       "       [ 1.55739627,  0.26739258],\n",
       "       [ 0.81245555, -0.16233157],\n",
       "       [-0.30733476, -0.36508661],\n",
       "       [-0.07034289, -0.70253793],\n",
       "       [-0.19188449, -0.67749054],\n",
       "       [ 0.13499495, -0.31170964],\n",
       "       [ 1.37873698, -0.42120514],\n",
       "       [ 0.58727485, -0.48328427],\n",
       "       [ 0.8072055 ,  0.19505396],\n",
       "       [ 1.22042897,  0.40803534],\n",
       "       [ 0.81286779, -0.370679  ],\n",
       "       [ 0.24519516, -0.26672804],\n",
       "       [ 0.16451343, -0.67966147],\n",
       "       [ 0.46303099, -0.66952655],\n",
       "       [ 0.89016045, -0.03381244],\n",
       "       [ 0.22887905, -0.40225762],\n",
       "       [-0.70708128, -1.00842476],\n",
       "       [ 0.35553304, -0.50321849],\n",
       "       [ 0.33112695, -0.21118014],\n",
       "       [ 0.37523823, -0.29162202],\n",
       "       [ 0.64169028,  0.01907118],\n",
       "       [-0.90846333, -0.75156873],\n",
       "       [ 0.29780791, -0.34701652],\n",
       "       [ 2.53172698, -0.01184224],\n",
       "       [ 1.41407223, -0.57492506],\n",
       "       [ 2.61648461,  0.34193529],\n",
       "       [ 1.97081495, -0.18112569],\n",
       "       [ 2.34975798, -0.04188255],\n",
       "       [ 3.39687992,  0.54716805],\n",
       "       [ 0.51938325, -1.19135169],\n",
       "       [ 2.9320051 ,  0.35237701],\n",
       "       [ 2.31967279, -0.24554817],\n",
       "       [ 2.91813423,  0.78038063],\n",
       "       [ 1.66193495,  0.2420384 ],\n",
       "       [ 1.80234045, -0.21615461],\n",
       "       [ 2.16537886,  0.21528028],\n",
       "       [ 1.34459422, -0.77641543],\n",
       "       [ 1.5852673 , -0.53930705],\n",
       "       [ 1.90474358,  0.11881899],\n",
       "       [ 1.94924878,  0.04073026],\n",
       "       [ 3.48876538,  1.17154454],\n",
       "       [ 3.79468686,  0.25326557],\n",
       "       [ 1.29832982, -0.76101394],\n",
       "       [ 2.42816726,  0.37678197],\n",
       "       [ 1.19809737, -0.60557896],\n",
       "       [ 3.49926548,  0.45677347],\n",
       "       [ 1.38766825, -0.20403099],\n",
       "       [ 2.27585365,  0.33338653],\n",
       "       [ 2.61419383,  0.55836695],\n",
       "       [ 1.25762518, -0.179137  ],\n",
       "       [ 1.29066965, -0.11642525],\n",
       "       [ 2.12285398, -0.21085488],\n",
       "       [ 2.3875644 ,  0.46251925],\n",
       "       [ 2.84096093,  0.37274259],\n",
       "       [ 3.2323429 ,  1.37052404],\n",
       "       [ 2.15873837, -0.21832553],\n",
       "       [ 1.4431026 , -0.14380129],\n",
       "       [ 1.77964011, -0.50146479],\n",
       "       [ 3.07652162,  0.68576444],\n",
       "       [ 2.14498686,  0.13890661],\n",
       "       [ 1.90486293,  0.04804751],\n",
       "       [ 1.16885347, -0.1645025 ],\n",
       "       [ 2.10765373,  0.37148225],\n",
       "       [ 2.31430339,  0.18260885],\n",
       "       [ 1.92245088,  0.40927118],\n",
       "       [ 1.41407223, -0.57492506],\n",
       "       [ 2.56332271,  0.2759745 ],\n",
       "       [ 2.41939122,  0.30350394],\n",
       "       [ 1.94401705,  0.18741522],\n",
       "       [ 1.52566363, -0.37502085],\n",
       "       [ 1.76404594,  0.07851919],\n",
       "       [ 1.90162908,  0.11587675],\n",
       "       [ 1.38966613, -0.28288671]])"
      ]
     },
     "execution_count": 9,
     "metadata": {},
     "output_type": "execute_result"
    }
   ],
   "source": [
    "import numpy as np\n",
    "import matplotlib.pyplot as plt\n",
    "from sklearn import decomposition\n",
    "%matplotlib inline\n",
    "\n",
    "pca = decomposition.PCA(n_components=2)\n",
    "pca.fit(X)\n",
    "X = pca.transform(X)\n",
    "\n",
    "X"
   ]
  },
  {
   "cell_type": "code",
   "execution_count": 10,
   "metadata": {
    "collapsed": false
   },
   "outputs": [
    {
     "data": {
      "text/plain": [
       "array([ 0.92461621,  0.05301557])"
      ]
     },
     "execution_count": 10,
     "metadata": {},
     "output_type": "execute_result"
    }
   ],
   "source": [
    "pca.explained_variance_ratio_"
   ]
  },
  {
   "cell_type": "code",
   "execution_count": 11,
   "metadata": {
    "collapsed": false
   },
   "outputs": [
    {
     "data": {
      "text/html": [
       "<div>\n",
       "<style>\n",
       "    .dataframe thead tr:only-child th {\n",
       "        text-align: right;\n",
       "    }\n",
       "\n",
       "    .dataframe thead th {\n",
       "        text-align: left;\n",
       "    }\n",
       "\n",
       "    .dataframe tbody tr th {\n",
       "        vertical-align: top;\n",
       "    }\n",
       "</style>\n",
       "<table border=\"1\" class=\"dataframe\">\n",
       "  <thead>\n",
       "    <tr style=\"text-align: right;\">\n",
       "      <th></th>\n",
       "      <th>0</th>\n",
       "      <th>1</th>\n",
       "    </tr>\n",
       "  </thead>\n",
       "  <tbody>\n",
       "    <tr>\n",
       "      <th>0</th>\n",
       "      <td>1.000000e+00</td>\n",
       "      <td>7.247492e-16</td>\n",
       "    </tr>\n",
       "    <tr>\n",
       "      <th>1</th>\n",
       "      <td>7.247492e-16</td>\n",
       "      <td>1.000000e+00</td>\n",
       "    </tr>\n",
       "  </tbody>\n",
       "</table>\n",
       "</div>"
      ],
      "text/plain": [
       "              0             1\n",
       "0  1.000000e+00  7.247492e-16\n",
       "1  7.247492e-16  1.000000e+00"
      ]
     },
     "execution_count": 11,
     "metadata": {},
     "output_type": "execute_result"
    }
   ],
   "source": [
    "pd.DataFrame(X).corr()"
   ]
  },
  {
   "cell_type": "code",
   "execution_count": 12,
   "metadata": {
    "collapsed": false
   },
   "outputs": [],
   "source": [
    "from sklearn.preprocessing import LabelEncoder\n",
    "# 把類別轉成0,1,2，散佈圖上色用\n",
    "le = LabelEncoder()\n",
    "le.fit(['Iris-setosa', 'Iris-versicolor', 'Iris-virginica'])\n",
    "y_label = le.transform(y)"
   ]
  },
  {
   "cell_type": "code",
   "execution_count": 13,
   "metadata": {
    "collapsed": false
   },
   "outputs": [
    {
     "data": {
      "image/png": "[encoded data removed]",
      "text/plain": [
       "<matplotlib.figure.Figure at 0x113d33cc0>"
      ]
     },
     "metadata": {},
     "output_type": "display_data"
    }
   ],
   "source": [
    "plt.figure(figsize=(8, 6))\n",
    "plt.scatter(X[:, 0], X[:, 1], c=y_label, cmap=plt.cm.spectral, edgecolor='k')\n",
    "plt.show()"
   ]
  },
  {
   "cell_type": "markdown",
   "metadata": {},
   "source": [
    "# KNN"
   ]
  },
  {
   "cell_type": "code",
   "execution_count": 14,
   "metadata": {
    "collapsed": true
   },
   "outputs": [],
   "source": [
    "from sklearn.model_selection import train_test_split\n",
    "X_train, X_test, y_train, y_test = train_test_split(X, y, test_size = 0.3) # 30% for testing, 70% for training"
   ]
  },
  {
   "cell_type": "code",
   "execution_count": 15,
   "metadata": {
    "collapsed": true
   },
   "outputs": [],
   "source": [
    "from sklearn.preprocessing import StandardScaler\n",
    "sc = StandardScaler()\n",
    "sc.fit(X_train)\n",
    "X_train_std = sc.transform(X_train)\n",
    "X_test_std = sc.transform(X_test)"
   ]
  },
  {
   "cell_type": "code",
   "execution_count": 16,
   "metadata": {
    "collapsed": false
   },
   "outputs": [
    {
     "data": {
      "text/plain": [
       "KNeighborsClassifier(algorithm='auto', leaf_size=30, metric='minkowski',\n",
       "           metric_params=None, n_jobs=1, n_neighbors=3, p=2,\n",
       "           weights='uniform')"
      ]
     },
     "execution_count": 16,
     "metadata": {},
     "output_type": "execute_result"
    }
   ],
   "source": [
    "from sklearn.neighbors import KNeighborsClassifier\n",
    "from sklearn import metrics\n",
    "\n",
    "knn = KNeighborsClassifier(n_neighbors=3, weights='uniform')\n",
    "knn.fit(X_train_std, y_train)"
   ]
  },
  {
   "cell_type": "markdown",
   "metadata": {},
   "source": [
    "### 準確度 & 混淆矩陣"
   ]
  },
  {
   "cell_type": "code",
   "execution_count": 17,
   "metadata": {
    "collapsed": false
   },
   "outputs": [
    {
     "name": "stdout",
     "output_type": "stream",
     "text": [
      "                 precision    recall  f1-score   support\n",
      "\n",
      "    Iris-setosa       1.00      1.00      1.00        16\n",
      "Iris-versicolor       0.93      0.93      0.93        15\n",
      " Iris-virginica       0.93      0.93      0.93        14\n",
      "\n",
      "    avg / total       0.96      0.96      0.96        45\n",
      "\n",
      "[[16  0  0]\n",
      " [ 0 14  1]\n",
      " [ 0  1 13]]\n"
     ]
    }
   ],
   "source": [
    "print(metrics.classification_report(y_test, knn.predict(X_test_std)))\n",
    "print(metrics.confusion_matrix(y_test, knn.predict(X_test_std),labels=['Iris-setosa', 'Iris-versicolor', 'Iris-virginica']))"
   ]
  }
 ],
 "metadata": {
  "anaconda-cloud": {},
  "kernelspec": {
   "display_name": "Python 3",
   "language": "python",
   "name": "python3"
  },
  "language_info": {
   "codemirror_mode": {
    "name": "ipython",
    "version": 3
   },
   "file_extension": ".py",
   "mimetype": "text/x-python",
   "name": "python",
   "nbconvert_exporter": "python",
   "pygments_lexer": "ipython3",
   "version": "3.5.2"
  }
 },
 "nbformat": 4,
 "nbformat_minor": 1
}
