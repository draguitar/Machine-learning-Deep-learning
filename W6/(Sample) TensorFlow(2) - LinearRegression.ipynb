{
 "cells": [
  {
   "cell_type": "markdown",
   "metadata": {},
   "source": [
    "# 原始資料"
   ]
  },
  {
   "cell_type": "code",
   "execution_count": 1,
   "metadata": {
    "collapsed": true
   },
   "outputs": [],
   "source": [
    "import tensorflow as tf\n",
    "import numpy as np\n",
    "import matplotlib.pyplot as plt\n",
    "%matplotlib inline"
   ]
  },
  {
   "cell_type": "code",
   "execution_count": 2,
   "metadata": {
    "collapsed": true
   },
   "outputs": [],
   "source": [
    "x = np.array([3.1,4.4,5.5,6.1,6.9,4.1,9.7,6.1,7.9,2.7,7.2,10.1,5.3,7.9,5.6,9.2,3.1,6.2,7.3,7.6,6.7,6.2])\n",
    "y = np.array([1.7,2.1,2.0,1.9,2.6,1.3,3.3,2.6,2.3,1.1,2.7,3.5,1.6,2.9,2.4,2.9,1.3,2.3,2.5,1.9,2.6,2.2])"
   ]
  },
  {
   "cell_type": "code",
   "execution_count": 3,
   "metadata": {},
   "outputs": [
    {
     "name": "stdout",
     "output_type": "stream",
     "text": [
      "original type(x,y): float64 float64\n",
      "new type(x,y): float32 float32\n"
     ]
    }
   ],
   "source": [
    "# 為了後續與TensorFlow weights運算資料型態一致\n",
    "print('original type(x,y):', x.dtype, y.dtype)\n",
    "x = x.astype('float32')\n",
    "y = y.astype('float32')\n",
    "print('new type(x,y):', x.dtype, y.dtype)"
   ]
  },
  {
   "cell_type": "code",
   "execution_count": 4,
   "metadata": {},
   "outputs": [
    {
     "data": {
      "text/plain": [
       "<matplotlib.collections.PathCollection at 0x1238c6550>"
      ]
     },
     "execution_count": 4,
     "metadata": {},
     "output_type": "execute_result"
    },
    {
     "data": {
      "image/png": "[encoded data removed]",
      "text/plain": [
       "<matplotlib.figure.Figure at 0x1100cb8d0>"
      ]
     },
     "metadata": {},
     "output_type": "display_data"
    }
   ],
   "source": [
    "plt.scatter(x,y)"
   ]
  },
  {
   "cell_type": "markdown",
   "metadata": {},
   "source": [
    "# 設定超參數\n",
    "學習速率(learning_rate), 總訓練週期數(training_epochs)"
   ]
  },
  {
   "cell_type": "code",
   "execution_count": 5,
   "metadata": {
    "collapsed": true
   },
   "outputs": [],
   "source": [
    "learning_rate = 0.001\n",
    "training_epochs = 20"
   ]
  },
  {
   "cell_type": "markdown",
   "metadata": {},
   "source": [
    "# 建立 TensorFlow 計算圖"
   ]
  },
  {
   "cell_type": "markdown",
   "metadata": {},
   "source": [
    "<b>objective function</b>: y = Wx + b"
   ]
  },
  {
   "cell_type": "code",
   "execution_count": 6,
   "metadata": {
    "collapsed": true
   },
   "outputs": [],
   "source": [
    "W = tf.Variable(tf.random_uniform([1]))\n",
    "b = tf.Variable(tf.zeros([1]))\n",
    "y_pred = tf.add(tf.multiply(x, W), b)"
   ]
  },
  {
   "cell_type": "markdown",
   "metadata": {},
   "source": [
    "<b>cost function(MSE)</b>: mean(square(y - y_pred))"
   ]
  },
  {
   "cell_type": "code",
   "execution_count": 7,
   "metadata": {
    "collapsed": true
   },
   "outputs": [],
   "source": [
    "cost = tf.reduce_mean(tf.square(y_pred - y))"
   ]
  },
  {
   "cell_type": "markdown",
   "metadata": {},
   "source": [
    "<b>optimizer</b>: Gradient Descent "
   ]
  },
  {
   "cell_type": "code",
   "execution_count": 8,
   "metadata": {
    "collapsed": true
   },
   "outputs": [],
   "source": [
    "optimizer = tf.train.GradientDescentOptimizer(learning_rate)\n",
    "train = optimizer.minimize(cost)"
   ]
  },
  {
   "cell_type": "markdown",
   "metadata": {},
   "source": [
    "<b> R Squared Score"
   ]
  },
  {
   "cell_type": "code",
   "execution_count": 9,
   "metadata": {
    "collapsed": true
   },
   "outputs": [],
   "source": [
    "#with tf.name_scope('R_Squared'):\n",
    "SS_res = tf.reduce_sum(tf.square(tf.subtract(y, y_pred)))\n",
    "SS_tot = tf.reduce_sum(tf.square(tf.subtract(y, tf.reduce_mean(y))))\n",
    "R_squared = tf.subtract(1.0, tf.div(SS_res, SS_tot))"
   ]
  },
  {
   "cell_type": "markdown",
   "metadata": {},
   "source": [
    "# 執行 Session: Tensor Flowing"
   ]
  },
  {
   "cell_type": "code",
   "execution_count": 10,
   "metadata": {},
   "outputs": [
    {
     "name": "stdout",
     "output_type": "stream",
     "text": [
      "weight/parameter [ 0.516505]\n",
      "intercept [-0.01338392]\n",
      "cost(MSE) 1.29624\n",
      "R Squared Score -2.41394\n"
     ]
    },
    {
     "data": {
      "image/png": "[encoded data removed]",
      "text/plain": [
       "<matplotlib.figure.Figure at 0x123a996d8>"
      ]
     },
     "metadata": {},
     "output_type": "display_data"
    },
    {
     "name": "stdout",
     "output_type": "stream",
     "text": [
      "weight/parameter [ 0.45618233]\n",
      "intercept [-0.02156786]\n",
      "cost(MSE) 0.575854\n",
      "R Squared Score -0.516642\n"
     ]
    },
    {
     "data": {
      "image/png": "[encoded data removed]",
      "text/plain": [
       "<matplotlib.figure.Figure at 0x123b0b240>"
      ]
     },
     "metadata": {},
     "output_type": "display_data"
    },
    {
     "name": "stdout",
     "output_type": "stream",
     "text": [
      "weight/parameter [ 0.41841128]\n",
      "intercept [-0.02649838]\n",
      "cost(MSE) 0.293795\n",
      "R Squared Score 0.226225\n"
     ]
    },
    {
     "data": {
      "image/png": "[encoded data removed]",
      "text/plain": [
       "<matplotlib.figure.Figure at 0x123cb7240>"
      ]
     },
     "metadata": {},
     "output_type": "display_data"
    },
    {
     "name": "stdout",
     "output_type": "stream",
     "text": [
      "weight/parameter [ 0.39475071]\n",
      "intercept [-0.02939341]\n",
      "cost(MSE) 0.183338\n",
      "R Squared Score 0.517137\n"
     ]
    },
    {
     "data": {
      "image/png": "[encoded data removed]",
      "text/plain": [
       "<matplotlib.figure.Figure at 0x123dd06d8>"
      ]
     },
     "metadata": {},
     "output_type": "display_data"
    }
   ],
   "source": [
    "costs = []\n",
    "with tf.Session() as sess:\n",
    "    # 初始化所有Variables\n",
    "    sess.run(tf.global_variables_initializer())\n",
    "    \n",
    "    for epoch in range(1,training_epochs+1):\n",
    "        sess.run(train)\n",
    "        epoch_cost = sess.run(cost)\n",
    "        costs.append(epoch_cost)\n",
    "        \n",
    "        if(epoch % 5 == 0):\n",
    "            # show training result \n",
    "            print('weight/parameter',sess.run(W))\n",
    "            print('intercept',sess.run(b))\n",
    "            print('cost(MSE)',epoch_cost)\n",
    "            print('R Squared Score',sess.run(R_squared))\n",
    "            plt.plot(x, y, 'o', label='epoch '+ str(epoch))\n",
    "            plt.plot(x, sess.run(y_pred))\n",
    "            plt.legend()\n",
    "            plt.show()\n",
    "    \n",
    "    # 輸出計算圖至TensorBoard\n",
    "    writer = tf.summary.FileWriter(\"log_lr/\", graph = sess.graph)"
   ]
  },
  {
   "cell_type": "code",
   "execution_count": 11,
   "metadata": {},
   "outputs": [
    {
     "data": {
      "image/png": "[encoded data removed]",
      "text/plain": [
       "<matplotlib.figure.Figure at 0x123a954a8>"
      ]
     },
     "metadata": {},
     "output_type": "display_data"
    }
   ],
   "source": [
    "plt.ylabel('cost')\n",
    "plt.xlabel('epoch')\n",
    "xticks = [i+1 for i in range(training_epochs)]\n",
    "plt.xticks([i+1 for i in range(training_epochs)])\n",
    "plt.plot(xticks, costs)\n",
    "plt.show()"
   ]
  },
  {
   "cell_type": "markdown",
   "metadata": {},
   "source": [
    "# TensorBoard"
   ]
  },
  {
   "cell_type": "code",
   "execution_count": null,
   "metadata": {},
   "outputs": [
    {
     "name": "stdout",
     "output_type": "stream",
     "text": [
      "TensorBoard 0.1.6 at http://pyda:6006 (Press CTRL+C to quit)\r\n"
     ]
    }
   ],
   "source": [
    "# 啟動TensorBoard\n",
    "!tensorboard --logdir=log_lr"
   ]
  },
  {
   "cell_type": "code",
   "execution_count": null,
   "metadata": {
    "collapsed": true
   },
   "outputs": [],
   "source": []
  }
 ],
 "metadata": {
  "kernelspec": {
   "display_name": "Python 3",
   "language": "python",
   "name": "python3"
  },
  "language_info": {
   "codemirror_mode": {
    "name": "ipython",
    "version": 3
   },
   "file_extension": ".py",
   "mimetype": "text/x-python",
   "name": "python",
   "nbconvert_exporter": "python",
   "pygments_lexer": "ipython3",
   "version": "3.5.3"
  }
 },
 "nbformat": 4,
 "nbformat_minor": 2
}
