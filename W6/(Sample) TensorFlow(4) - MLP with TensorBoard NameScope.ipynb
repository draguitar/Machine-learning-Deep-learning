{
 "cells": [
  {
   "cell_type": "code",
   "execution_count": 1,
   "metadata": {
    "collapsed": true
   },
   "outputs": [],
   "source": [
    "import tensorflow as tf\n",
    "import matplotlib.pyplot as plt\n",
    "%matplotlib inline"
   ]
  },
  {
   "cell_type": "markdown",
   "metadata": {},
   "source": [
    "# Import Data"
   ]
  },
  {
   "cell_type": "code",
   "execution_count": 2,
   "metadata": {},
   "outputs": [
    {
     "name": "stdout",
     "output_type": "stream",
     "text": [
      "Extracting /tmp/data/train-images-idx3-ubyte.gz\n",
      "Extracting /tmp/data/train-labels-idx1-ubyte.gz\n",
      "Extracting /tmp/data/t10k-images-idx3-ubyte.gz\n",
      "Extracting /tmp/data/t10k-labels-idx1-ubyte.gz\n"
     ]
    }
   ],
   "source": [
    "from tensorflow.examples.tutorials.mnist import input_data\n",
    "import tensorflow as tf\n",
    "mnist = input_data.read_data_sets(\"/tmp/data/\", one_hot=True)"
   ]
  },
  {
   "cell_type": "markdown",
   "metadata": {},
   "source": [
    "# 設定超參數"
   ]
  },
  {
   "cell_type": "code",
   "execution_count": 3,
   "metadata": {
    "collapsed": true
   },
   "outputs": [],
   "source": [
    "learning_rate = 0.001\n",
    "training_epochs = 10\n",
    "batch_size = 200"
   ]
  },
  {
   "cell_type": "code",
   "execution_count": 4,
   "metadata": {
    "collapsed": true
   },
   "outputs": [],
   "source": [
    "input_dim = 28*28\n",
    "hidden1_dim = 256\n",
    "hidden2_dim = 256\n",
    "output_dim = 10"
   ]
  },
  {
   "cell_type": "markdown",
   "metadata": {},
   "source": [
    "# 設定TensorFlow 計算圖"
   ]
  },
  {
   "cell_type": "markdown",
   "metadata": {},
   "source": [
    "<b> placeholder </b>"
   ]
  },
  {
   "cell_type": "code",
   "execution_count": 6,
   "metadata": {
    "collapsed": true
   },
   "outputs": [],
   "source": [
    "x = tf.placeholder(\"float\",[None, input_dim],name='x')\n",
    "y = tf.placeholder(\"float\",[None, output_dim],name='y')"
   ]
  },
  {
   "cell_type": "markdown",
   "metadata": {},
   "source": [
    "<b> Input Layer to Hidden Layer 1</b>\n",
    "<p> random_normal([n,m]): 隨機產生normal distribution (n*m matrix) </p>"
   ]
  },
  {
   "cell_type": "code",
   "execution_count": 7,
   "metadata": {
    "collapsed": true
   },
   "outputs": [],
   "source": [
    "with tf.name_scope('InputLayer_to_HiddenLayer1'):\n",
    "    w1 = tf.Variable(tf.random_normal([input_dim, hidden1_dim]),name='weight1')\n",
    "    b1 = tf.Variable(tf.random_normal([hidden1_dim]),name='bias1')\n",
    "    a1 = tf.nn.relu(tf.add(tf.matmul(x,w1),b1))\n",
    "    #a1 = tf.nn.sigmoid(tf.add(tf.matmul(x,w1),b1))"
   ]
  },
  {
   "cell_type": "markdown",
   "metadata": {},
   "source": [
    "<b> Hidden Layer 1 to Hidden Layer 2 </b>\n",
    "<p> activation function: relu or sigmoid </p>"
   ]
  },
  {
   "cell_type": "code",
   "execution_count": 8,
   "metadata": {
    "collapsed": true
   },
   "outputs": [],
   "source": [
    "with tf.name_scope('HiddenLayer1_to_HiddenLayer2'):\n",
    "    w2 = tf.Variable(tf.random_normal([hidden1_dim, hidden2_dim]),name='weight2')\n",
    "    b2 = tf.Variable(tf.random_normal([hidden2_dim]),name='bias2')\n",
    "    a2 = tf.nn.relu(tf.add(tf.matmul(a1,w2),b2))\n",
    "    #a2 = tf.nn.sigmoid(tf.add(tf.matmul(a1,w2),b2))"
   ]
  },
  {
   "cell_type": "markdown",
   "metadata": {},
   "source": [
    "<b> Hidden Layer 2 to Output Layer </b>"
   ]
  },
  {
   "cell_type": "code",
   "execution_count": 9,
   "metadata": {
    "collapsed": true
   },
   "outputs": [],
   "source": [
    "with tf.name_scope('HiddenLayer2_to_OutputLayer'):\n",
    "    w3 = tf.Variable(tf.random_normal([hidden2_dim, output_dim]),name='weight3')\n",
    "    b3 = tf.Variable(tf.random_normal([output_dim]),name='bias3')\n",
    "    y_pred = tf.add(tf.matmul(a2,w3),b3)"
   ]
  },
  {
   "cell_type": "markdown",
   "metadata": {},
   "source": [
    "<b> Loss </b>"
   ]
  },
  {
   "cell_type": "code",
   "execution_count": 10,
   "metadata": {
    "collapsed": true
   },
   "outputs": [],
   "source": [
    "with tf.name_scope('Loss'):\n",
    "    loss = tf.reduce_mean(tf.nn.softmax_cross_entropy_with_logits(labels=y, logits=y_pred))"
   ]
  },
  {
   "cell_type": "markdown",
   "metadata": {},
   "source": [
    "<b> Accuracy </b>"
   ]
  },
  {
   "cell_type": "code",
   "execution_count": 11,
   "metadata": {
    "collapsed": true
   },
   "outputs": [],
   "source": [
    "with tf.name_scope('Accuracy'):\n",
    "    correct_prediction = tf.equal(tf.argmax(y_pred, 1), tf.argmax(y, 1))\n",
    "    accuracy = tf.reduce_mean(tf.cast(correct_prediction, \"float\"))"
   ]
  },
  {
   "cell_type": "markdown",
   "metadata": {},
   "source": [
    "<b> Optimizer (training) </b>\n",
    "<p> Adam, GradientDescent"
   ]
  },
  {
   "cell_type": "code",
   "execution_count": 12,
   "metadata": {
    "collapsed": true
   },
   "outputs": [],
   "source": [
    "with tf.name_scope('Optimizer'):\n",
    "    optimizer = tf.train.AdamOptimizer(learning_rate=learning_rate).minimize(loss) \n",
    "    #optimizer = tf.train.GradientDescentOptimizer(learning_rate=learning_rate).minimize(cost)"
   ]
  },
  {
   "cell_type": "markdown",
   "metadata": {},
   "source": [
    "# 啟動Session"
   ]
  },
  {
   "cell_type": "code",
   "execution_count": 13,
   "metadata": {},
   "outputs": [
    {
     "name": "stdout",
     "output_type": "stream",
     "text": [
      "Epoch: 1 , loss= 8.12774 , acc= 0.81 , val_loss= 10.2443 , val_acc= 0.775\n",
      "Epoch: 2 , loss= 5.89476 , acc= 0.845 , val_loss= 4.96129 , val_acc= 0.83\n",
      "Epoch: 3 , loss= 1.957 , acc= 0.92 , val_loss= 5.62704 , val_acc= 0.85\n",
      "Epoch: 4 , loss= 2.08627 , acc= 0.895 , val_loss= 3.37878 , val_acc= 0.89\n",
      "Epoch: 5 , loss= 2.79706 , acc= 0.895 , val_loss= 4.22858 , val_acc= 0.88\n",
      "Epoch: 6 , loss= 1.92428 , acc= 0.92 , val_loss= 3.21344 , val_acc= 0.87\n",
      "Epoch: 7 , loss= 1.5626 , acc= 0.94 , val_loss= 2.47915 , val_acc= 0.925\n",
      "Epoch: 8 , loss= 0.262789 , acc= 0.965 , val_loss= 2.32083 , val_acc= 0.91\n",
      "Epoch: 9 , loss= 0.39372 , acc= 0.945 , val_loss= 2.93045 , val_acc= 0.89\n",
      "Epoch: 10 , loss= 0.127307 , acc= 0.98 , val_loss= 1.80402 , val_acc= 0.915\n",
      "Test Accuracy: 0.9099\n"
     ]
    }
   ],
   "source": [
    "losses = []\n",
    "val_losses = []\n",
    "\n",
    "with tf.Session() as sess:\n",
    "    # 初始化Variables\n",
    "    sess.run(tf.global_variables_initializer())\n",
    "    \n",
    "    writer = tf.summary.FileWriter(\"log_mlp/\", graph = sess.graph)\n",
    "    \n",
    "    for epoch in range(training_epochs):\n",
    "        num_batch = int(mnist.train.num_examples/batch_size)\n",
    "        \n",
    "        for i in range(num_batch):\n",
    "            batch_x_train, batch_y_train = mnist.train.next_batch(batch_size)\n",
    "            batch_x_validation, batch_y_validation = mnist.validation.next_batch(batch_size)\n",
    "            \n",
    "            # training by optimizer\n",
    "            sess.run(optimizer, feed_dict={x: batch_x_train, y: batch_y_train})\n",
    "            \n",
    "            # get training/validation loss & acc\n",
    "            batch_loss = sess.run(loss, feed_dict={x: batch_x_train, y: batch_y_train})\n",
    "            batch_acc = sess.run(accuracy, feed_dict={x: batch_x_train, y: batch_y_train})\n",
    "            batch_val_loss = sess.run(loss, feed_dict={x: batch_x_validation, y: batch_y_validation})\n",
    "            batch_val_acc = sess.run(accuracy, feed_dict={x: batch_x_validation, y: batch_y_validation})\n",
    "        \n",
    "        losses.append(batch_loss)\n",
    "        val_losses.append(batch_val_loss)\n",
    "        \n",
    "        print(\"Epoch:\", '%d' % (epoch+1), \", loss=\", batch_loss, \", acc=\", batch_acc,\n",
    "              \", val_loss=\", batch_val_loss, \", val_acc=\", batch_val_acc)\n",
    "        \n",
    "    # Test Dataset\n",
    "    print (\"Test Accuracy:\", sess.run(accuracy, feed_dict={x: mnist.test.images, y: mnist.test.labels}))\n",
    "    \n",
    "    # 輸出計算圖至TensorBoard\n",
    "    writer = tf.summary.FileWriter(\"log_mlp_name/\", graph = sess.graph)"
   ]
  },
  {
   "cell_type": "markdown",
   "metadata": {},
   "source": [
    "# 比較 training/validation loss"
   ]
  },
  {
   "cell_type": "code",
   "execution_count": 14,
   "metadata": {},
   "outputs": [
    {
     "data": {
      "image/png": "[encoded data removed]",
      "text/plain": [
       "<matplotlib.figure.Figure at 0x129372fd0>"
      ]
     },
     "metadata": {},
     "output_type": "display_data"
    }
   ],
   "source": [
    "plt.ylabel('loss')\n",
    "plt.xlabel('epochs')\n",
    "xtick = [i for i in range(1,len(losses)+1)]\n",
    "plt.xticks(xtick)\n",
    "plt.plot(xtick, losses, label='training_losses')\n",
    "plt.plot(xtick, val_losses, label='validation_losses')\n",
    "plt.legend()\n",
    "plt.show()"
   ]
  },
  {
   "cell_type": "markdown",
   "metadata": {},
   "source": [
    "# TensorBoard"
   ]
  },
  {
   "cell_type": "code",
   "execution_count": 16,
   "metadata": {},
   "outputs": [
    {
     "name": "stdout",
     "output_type": "stream",
     "text": [
      "TensorBoard 0.1.6 at http://pyda:6006 (Press CTRL+C to quit)\n",
      "^C\n"
     ]
    }
   ],
   "source": [
    "# 啟動TensorBoard\n",
    "!tensorboard --logdir=log_mlp_name"
   ]
  },
  {
   "cell_type": "code",
   "execution_count": null,
   "metadata": {
    "collapsed": true
   },
   "outputs": [],
   "source": []
  }
 ],
 "metadata": {
  "kernelspec": {
   "display_name": "Python 3",
   "language": "python",
   "name": "python3"
  },
  "language_info": {
   "codemirror_mode": {
    "name": "ipython",
    "version": 3
   },
   "file_extension": ".py",
   "mimetype": "text/x-python",
   "name": "python",
   "nbconvert_exporter": "python",
   "pygments_lexer": "ipython3",
   "version": "3.5.3"
  }
 },
 "nbformat": 4,
 "nbformat_minor": 2
}
