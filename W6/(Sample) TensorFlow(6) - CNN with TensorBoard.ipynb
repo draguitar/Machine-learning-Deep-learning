{
 "cells": [
  {
   "cell_type": "code",
   "execution_count": 1,
   "metadata": {
    "collapsed": true
   },
   "outputs": [],
   "source": [
    "import tensorflow as tf\n",
    "import matplotlib.pyplot as plt\n",
    "%matplotlib inline"
   ]
  },
  {
   "cell_type": "markdown",
   "metadata": {},
   "source": [
    "# Import Data"
   ]
  },
  {
   "cell_type": "code",
   "execution_count": 2,
   "metadata": {},
   "outputs": [
    {
     "name": "stdout",
     "output_type": "stream",
     "text": [
      "Extracting /tmp/data/train-images-idx3-ubyte.gz\n",
      "Extracting /tmp/data/train-labels-idx1-ubyte.gz\n",
      "Extracting /tmp/data/t10k-images-idx3-ubyte.gz\n",
      "Extracting /tmp/data/t10k-labels-idx1-ubyte.gz\n"
     ]
    }
   ],
   "source": [
    "from tensorflow.examples.tutorials.mnist import input_data\n",
    "mnist = input_data.read_data_sets(\"/tmp/data/\", one_hot=True)"
   ]
  },
  {
   "cell_type": "markdown",
   "metadata": {},
   "source": [
    "# 設定超參數：輸入輸出維度"
   ]
  },
  {
   "cell_type": "code",
   "execution_count": 3,
   "metadata": {
    "collapsed": true
   },
   "outputs": [],
   "source": [
    "input_dim = 28*28\n",
    "output_dim = 10"
   ]
  },
  {
   "cell_type": "markdown",
   "metadata": {},
   "source": [
    "# 設定TensorFlow 計算圖"
   ]
  },
  {
   "cell_type": "markdown",
   "metadata": {},
   "source": [
    "<b> placeholder </b>"
   ]
  },
  {
   "cell_type": "code",
   "execution_count": 4,
   "metadata": {
    "collapsed": true
   },
   "outputs": [],
   "source": [
    "x = tf.placeholder(\"float\",[None, input_dim])\n",
    "y = tf.placeholder(\"float\",[None, output_dim])"
   ]
  },
  {
   "cell_type": "code",
   "execution_count": 5,
   "metadata": {
    "collapsed": true
   },
   "outputs": [],
   "source": [
    "x_image = tf.reshape(x, [-1, 28, 28, 1])"
   ]
  },
  {
   "cell_type": "markdown",
   "metadata": {},
   "source": [
    "<b> Convolution + Max-pooling Layer 1</b>\n",
    "<p> W_conv: [filter_height, filter_width, image_channels (1 for gray, 3 for RGB), num_filters] </p>\n",
    "<p> b_conv: [num_filters] </p>\n",
    "<p> strides: 對應到 input 各值的移動, input [batch, input_height, input_width, image_channels]\n",
    "<p> max_pool: kernel_size [batch, kernel_width, kernel_height, image_channels], stride [1, stride_width, stride_height, 1] </p>\n",
    "<p><b> Output image: 14 x 14 pixels </b></p>"
   ]
  },
  {
   "cell_type": "code",
   "execution_count": 6,
   "metadata": {
    "collapsed": true
   },
   "outputs": [],
   "source": [
    "with tf.name_scope('Convolution_layer1'):\n",
    "    W_conv1 = tf.Variable(tf.random_normal([5, 5, 1, 16]), name='Conv1_weight')\n",
    "    b_conv1 = tf.Variable(tf.random_normal([16]), name='Conv1_bias')\n",
    "    conv1 = tf.nn.relu(tf.add(tf.nn.conv2d(x_image, W_conv1, strides=[1, 1, 1, 1], padding='SAME'), b_conv1))\n",
    "    tf.summary.histogram(\"conv1\", conv1)\n",
    "\n",
    "with tf.name_scope('Max-pooling_layer1'):\n",
    "    max_pool1 = tf.nn.max_pool(conv1, ksize=[1, 2, 2, 1], strides=[1, 2, 2, 1], padding='SAME')\n",
    "    tf.summary.histogram(\"max_pool1\", max_pool1)"
   ]
  },
  {
   "cell_type": "markdown",
   "metadata": {},
   "source": [
    "<b> Convolution + Max-pooling Layer 2</b>\n",
    "<p><b> Output image: 7 x 7 pixels </b></p>"
   ]
  },
  {
   "cell_type": "code",
   "execution_count": 7,
   "metadata": {
    "collapsed": true
   },
   "outputs": [],
   "source": [
    "with tf.name_scope('Convolution_layer2'):\n",
    "    W_conv2 = tf.Variable(tf.random_normal([5, 5, 16, 36]), name='Conv2_weight')\n",
    "    b_conv2 = tf.Variable(tf.random_normal([36]), name='Conv2_bias')\n",
    "    conv2 = tf.nn.relu(tf.add(tf.nn.conv2d(max_pool1, W_conv2, strides=[1, 1, 1, 1], padding='SAME'), b_conv2))\n",
    "    tf.summary.histogram(\"conv2\", conv2)\n",
    "    \n",
    "with tf.name_scope('Max-pooling_layer2'):\n",
    "    max_pool2 = tf.nn.max_pool(conv2, ksize=[1, 2, 2, 1], strides=[1, 2, 2, 1], padding='SAME')\n",
    "    tf.summary.histogram(\"max_pool2\", max_pool2)"
   ]
  },
  {
   "cell_type": "markdown",
   "metadata": {},
   "source": [
    "<b> Flatten Layer </b>"
   ]
  },
  {
   "cell_type": "code",
   "execution_count": 8,
   "metadata": {
    "collapsed": true
   },
   "outputs": [],
   "source": [
    "with tf.name_scope('Flatten_layer'):\n",
    "    flatten = tf.reshape(max_pool2, [-1, 7 * 7 * 36])"
   ]
  },
  {
   "cell_type": "markdown",
   "metadata": {},
   "source": [
    "# 設定超參數：MLP"
   ]
  },
  {
   "cell_type": "code",
   "execution_count": 9,
   "metadata": {
    "collapsed": true
   },
   "outputs": [],
   "source": [
    "learning_rate = 0.001\n",
    "training_epochs = 10\n",
    "batch_size = 200"
   ]
  },
  {
   "cell_type": "code",
   "execution_count": 10,
   "metadata": {
    "collapsed": true
   },
   "outputs": [],
   "source": [
    "MLP_input_dim = 7*7*36\n",
    "hidden1_dim = 256\n",
    "hidden2_dim = 256"
   ]
  },
  {
   "cell_type": "markdown",
   "metadata": {},
   "source": [
    "<b> MLP </b>"
   ]
  },
  {
   "cell_type": "code",
   "execution_count": 11,
   "metadata": {
    "collapsed": true
   },
   "outputs": [],
   "source": [
    "with tf.name_scope('InputLayer_to_HiddenLayer1'):\n",
    "    # input layer to hidden layer 1\n",
    "    w1 = tf.Variable(tf.random_normal([MLP_input_dim, hidden1_dim]),name='weight1')\n",
    "    b1 = tf.Variable(tf.random_normal([hidden1_dim]),name='bias1')\n",
    "    a1 = tf.nn.relu(tf.add(tf.matmul(flatten,w1),b1))\n",
    "    \n",
    "    # add summary\n",
    "    tf.summary.histogram(\"w1\", w1)\n",
    "    tf.summary.histogram(\"b1\", b1)\n",
    "    tf.summary.histogram(\"a1\", a1)"
   ]
  },
  {
   "cell_type": "code",
   "execution_count": 12,
   "metadata": {
    "collapsed": true
   },
   "outputs": [],
   "source": [
    "with tf.name_scope('HiddenLayer1_to_HiddenLayer2'):\n",
    "    # input layer to hidden layer 2\n",
    "    w2 = tf.Variable(tf.random_normal([hidden1_dim, hidden2_dim]),name='weight2')\n",
    "    b2 = tf.Variable(tf.random_normal([hidden2_dim]),name='bias2')\n",
    "    a2 = tf.nn.relu(tf.add(tf.matmul(a1,w2),b2))\n",
    "    \n",
    "    # add summary\n",
    "    tf.summary.histogram(\"w2\", w2)\n",
    "    tf.summary.histogram(\"b2\", b2)\n",
    "    tf.summary.histogram(\"a2\", a2)"
   ]
  },
  {
   "cell_type": "code",
   "execution_count": 13,
   "metadata": {
    "collapsed": true
   },
   "outputs": [],
   "source": [
    "with tf.name_scope('HiddenLayer2_to_OutputLayer'):\n",
    "    # hidden layer 2 to output layer\n",
    "    w3 = tf.Variable(tf.random_normal([hidden2_dim, output_dim]),name='weight3')\n",
    "    b3 = tf.Variable(tf.random_normal([output_dim]),name='bias3')\n",
    "    y_pred = tf.add(tf.matmul(a2,w3),b3)\n",
    "\n",
    "    # add summary\n",
    "    tf.summary.histogram(\"w3\", w3)\n",
    "    tf.summary.histogram(\"b3\", b3)\n",
    "    tf.summary.histogram(\"y_pred\", y_pred)"
   ]
  },
  {
   "cell_type": "markdown",
   "metadata": {},
   "source": [
    "<b> Loss </b>"
   ]
  },
  {
   "cell_type": "code",
   "execution_count": 14,
   "metadata": {
    "collapsed": true
   },
   "outputs": [],
   "source": [
    "with tf.name_scope('Loss'):\n",
    "    loss = tf.reduce_mean(tf.nn.softmax_cross_entropy_with_logits(labels=y, logits=y_pred))\n",
    "    tf.summary.scalar(\"loss\", loss)"
   ]
  },
  {
   "cell_type": "markdown",
   "metadata": {},
   "source": [
    "<b> Accuracy </b>"
   ]
  },
  {
   "cell_type": "code",
   "execution_count": 15,
   "metadata": {
    "collapsed": true
   },
   "outputs": [],
   "source": [
    "with tf.name_scope('Accuracy'):\n",
    "    correct_prediction = tf.equal(tf.argmax(y_pred, 1), tf.argmax(y, 1))\n",
    "    accuracy = tf.reduce_mean(tf.cast(correct_prediction, \"float\"))\n",
    "    tf.summary.scalar(\"accuracy\", accuracy)"
   ]
  },
  {
   "cell_type": "markdown",
   "metadata": {},
   "source": [
    "<b> Optimizer </b>"
   ]
  },
  {
   "cell_type": "code",
   "execution_count": 16,
   "metadata": {
    "collapsed": true
   },
   "outputs": [],
   "source": [
    "with tf.name_scope('Optimizer'):\n",
    "    optimizer = tf.train.AdamOptimizer(learning_rate=learning_rate).minimize(loss) "
   ]
  },
  {
   "cell_type": "markdown",
   "metadata": {},
   "source": [
    "<b> merge summary </b>"
   ]
  },
  {
   "cell_type": "code",
   "execution_count": 17,
   "metadata": {
    "collapsed": true
   },
   "outputs": [],
   "source": [
    "merged_summary = tf.summary.merge_all()"
   ]
  },
  {
   "cell_type": "markdown",
   "metadata": {},
   "source": [
    "# 啟動Session"
   ]
  },
  {
   "cell_type": "code",
   "execution_count": 18,
   "metadata": {},
   "outputs": [
    {
     "name": "stdout",
     "output_type": "stream",
     "text": [
      "Epoch: 1 , loss= 2878.14 , acc= 0.89 , val_loss= 1717.6 , val_acc= 0.905\n",
      "Epoch: 2 , loss= 1078.78 , acc= 0.94 , val_loss= 1878.14 , val_acc= 0.93\n",
      "Epoch: 3 , loss= 1343.38 , acc= 0.95 , val_loss= 1264.99 , val_acc= 0.945\n",
      "Epoch: 4 , loss= 1352.29 , acc= 0.935 , val_loss= 1380.66 , val_acc= 0.915\n",
      "Epoch: 5 , loss= 981.892 , acc= 0.955 , val_loss= 1508.72 , val_acc= 0.95\n",
      "Epoch: 6 , loss= 482.116 , acc= 0.96 , val_loss= 1079.15 , val_acc= 0.95\n",
      "Epoch: 7 , loss= 484.32 , acc= 0.97 , val_loss= 307.11 , val_acc= 0.98\n",
      "Epoch: 8 , loss= 320.568 , acc= 0.98 , val_loss= 519.781 , val_acc= 0.965\n",
      "Epoch: 9 , loss= 123.519 , acc= 0.975 , val_loss= 932.802 , val_acc= 0.955\n",
      "Epoch: 10 , loss= 72.9392 , acc= 0.99 , val_loss= 343.008 , val_acc= 0.98\n",
      "Test Accuracy: 0.9632\n"
     ]
    }
   ],
   "source": [
    "losses = []\n",
    "val_losses = []\n",
    "\n",
    "with tf.Session() as sess:\n",
    "    # 初始化Variables\n",
    "    sess.run(tf.global_variables_initializer())\n",
    "    \n",
    "    writer = tf.summary.FileWriter(\"log_cnn/\", graph=sess.graph)\n",
    "    \n",
    "    global_step = 0\n",
    "    for epoch in range(training_epochs):\n",
    "        num_batch = int(mnist.train.num_examples/batch_size)\n",
    "        \n",
    "        for i in range(num_batch):\n",
    "            batch_x_train, batch_y_train = mnist.train.next_batch(batch_size)\n",
    "            batch_x_validation, batch_y_validation = mnist.validation.next_batch(batch_size)\n",
    "            \n",
    "            # training by optimizer\n",
    "            sess.run(optimizer, feed_dict={x: batch_x_train, y: batch_y_train})\n",
    "            \n",
    "            # get training/validation loss & acc\n",
    "            batch_loss = sess.run(loss, feed_dict={x: batch_x_train, y: batch_y_train})\n",
    "            batch_acc = sess.run(accuracy, feed_dict={x: batch_x_train, y: batch_y_train})\n",
    "            batch_val_loss = sess.run(loss, feed_dict={x: batch_x_validation, y: batch_y_validation})\n",
    "            batch_val_acc = sess.run(accuracy, feed_dict={x: batch_x_validation, y: batch_y_validation})\n",
    "            \n",
    "            # 紀錄每個batch的summary並加到writer中\n",
    "            global_step += 1\n",
    "            result = sess.run(merged_summary, feed_dict={x: batch_x_train, y: batch_y_train})\n",
    "            writer.add_summary(result,global_step)\n",
    "        \n",
    "        losses.append(batch_loss)\n",
    "        val_losses.append(batch_val_loss)\n",
    "        \n",
    "        print(\"Epoch:\", '%d' % (epoch+1), \", loss=\", batch_loss, \", acc=\", batch_acc,\n",
    "              \", val_loss=\", batch_val_loss, \", val_acc=\", batch_val_acc)\n",
    "        \n",
    "            \n",
    "    # Test Dataset\n",
    "    print (\"Test Accuracy:\", sess.run(accuracy, feed_dict={x: mnist.test.images, y: mnist.test.labels}))"
   ]
  },
  {
   "cell_type": "markdown",
   "metadata": {},
   "source": [
    "# 比較 training/validation loss"
   ]
  },
  {
   "cell_type": "code",
   "execution_count": null,
   "metadata": {},
   "outputs": [
    {
     "data": {
      "image/png": "[encoded data removed]",
      "text/plain": [
       "<matplotlib.figure.Figure at 0x1251d6978>"
      ]
     },
     "metadata": {},
     "output_type": "display_data"
    }
   ],
   "source": [
    "plt.ylabel('loss')\n",
    "plt.xlabel('epochs')\n",
    "xtick = [i for i in range(1,len(losses)+1)]\n",
    "plt.xticks(xtick)\n",
    "plt.plot(xtick, losses, label='training_losses')\n",
    "plt.plot(xtick, val_losses, label='validation_losses')\n",
    "plt.legend()\n",
    "plt.show()"
   ]
  },
  {
   "cell_type": "code",
   "execution_count": null,
   "metadata": {},
   "outputs": [
    {
     "name": "stdout",
     "output_type": "stream",
     "text": [
      "TensorBoard 0.1.6 at http://pyda:6006 (Press CTRL+C to quit)\r\n"
     ]
    }
   ],
   "source": [
    "# 啟動TensorBoard\n",
    "!tensorboard --logdir=log_cnn"
   ]
  },
  {
   "cell_type": "code",
   "execution_count": null,
   "metadata": {
    "collapsed": true
   },
   "outputs": [],
   "source": []
  }
 ],
 "metadata": {
  "kernelspec": {
   "display_name": "Python 3",
   "language": "python",
   "name": "python3"
  },
  "language_info": {
   "codemirror_mode": {
    "name": "ipython",
    "version": 3
   },
   "file_extension": ".py",
   "mimetype": "text/x-python",
   "name": "python",
   "nbconvert_exporter": "python",
   "pygments_lexer": "ipython3",
   "version": "3.5.3"
  }
 },
 "nbformat": 4,
 "nbformat_minor": 2
}
